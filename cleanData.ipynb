{
 "cells": [
  {
   "cell_type": "code",
   "execution_count": 155,
   "metadata": {
    "pycharm": {
     "name": "#%%\n"
    }
   },
   "outputs": [
    {
     "name": "stdout",
     "output_type": "stream",
     "text": [
      "<class 'pandas.core.frame.DataFrame'>\n",
      "Int64Index: 136 entries, 8 to 2499\n",
      "Data columns (total 4 columns):\n",
      " #   Column      Non-Null Count  Dtype \n",
      "---  ------      --------------  ----- \n",
      " 0   Unnamed: 0  136 non-null    int64 \n",
      " 1   quote       136 non-null    object\n",
      " 2   author      136 non-null    object\n",
      " 3   tags        136 non-null    object\n",
      "dtypes: int64(1), object(3)\n",
      "memory usage: 5.3+ KB\n",
      "love             33\n",
      "humor            32\n",
      "inspirational    32\n",
      "life             21\n",
      "books            18\n",
      "Name: tags, dtype: int64\n"
     ]
    }
   ],
   "source": [
    "import random\n",
    "import ast\n",
    "import pandas as pd\n",
    "import os\n",
    "data =  pd.read_csv(os.path.join(\"quotes.csv\"))\n",
    "data = data.dropna()\n",
    "data =data[data['quote'].str.contains('r[a-zA-Z\\\\s]')]\n",
    "data = data[data['quote'].str.split().str.len()<15]\n",
    "data = data[data['author'].str.split().str.len().lt(9)]\n",
    "data = data[data['tags']!=\"[]\"]\n",
    "for i,row in data.iterrows():\n",
    "    s = random.choice(ast.literal_eval(row['tags']))\n",
    "    data.at[i,'tags']=s\n",
    "data = data.groupby('tags').filter(lambda x : len(x)>15)\n",
    "data.to_csv('out.csv', index=False)\n",
    "data.info()\n",
    "print(data['tags'].value_counts())"
   ]
  },
  {
   "cell_type": "code",
   "execution_count": 155,
   "metadata": {},
   "outputs": [],
   "source": []
  },
  {
   "cell_type": "code",
   "execution_count": 155,
   "metadata": {},
   "outputs": [],
   "source": []
  }
 ],
 "metadata": {
  "kernelspec": {
   "display_name": "Python 3 (ipykernel)",
   "language": "python",
   "name": "python3"
  },
  "language_info": {
   "codemirror_mode": {
    "name": "ipython",
    "version": 3
   },
   "file_extension": ".py",
   "mimetype": "text/x-python",
   "name": "python",
   "nbconvert_exporter": "python",
   "pygments_lexer": "ipython3",
   "version": "3.9.5"
  }
 },
 "nbformat": 4,
 "nbformat_minor": 1
}