{
 "cells": [
  {
   "cell_type": "code",
   "execution_count": 1,
   "outputs": [
    {
     "name": "stdout",
     "output_type": "stream",
     "text": [
      "inspiration    2938\n",
      "success        2930\n",
      "time           2902\n",
      "happiness      2885\n",
      "truth          2880\n",
      "death          2822\n",
      "science        2814\n",
      "love           2813\n",
      "romance        2751\n",
      "poetry         2666\n",
      "Name: Main Tag, dtype: int64\n",
      "<class 'pandas.core.frame.DataFrame'>\n",
      "Int64Index: 28401 entries, 0 to 29999\n",
      "Data columns (total 4 columns):\n",
      "Unnamed: 0    28401 non-null int64\n",
      "Quote         28401 non-null object\n",
      "Author        28401 non-null object\n",
      "Main Tag      28401 non-null object\n",
      "dtypes: int64(1), object(3)\n",
      "memory usage: 1.1+ MB\n",
      "<class 'pandas.core.frame.DataFrame'>\n",
      "Int64Index: 4751 entries, 4 to 29987\n",
      "Data columns (total 4 columns):\n",
      "Id          4751 non-null int64\n",
      "Quote       4751 non-null object\n",
      "Author      4751 non-null object\n",
      "Main Tag    4751 non-null object\n",
      "dtypes: int64(1), object(3)\n",
      "memory usage: 185.6+ KB\n",
      "success        688\n",
      "inspiration    625\n",
      "time           601\n",
      "happiness      565\n",
      "truth          559\n",
      "love           392\n",
      "romance        361\n",
      "death          350\n",
      "poetry         347\n",
      "science        263\n",
      "Name: Main Tag, dtype: int64\n"
     ]
    },
    {
     "ename": "ImportError",
     "evalue": "No module named pyodbc",
     "output_type": "error",
     "traceback": [
      "\u001B[0;31m\u001B[0m",
      "\u001B[0;31mImportError\u001B[0mTraceback (most recent call last)",
      "\u001B[0;32m<ipython-input-1-163dd2153edc>\u001B[0m in \u001B[0;36m<module>\u001B[0;34m()\u001B[0m\n\u001B[1;32m     17\u001B[0m \u001B[0;32mprint\u001B[0m\u001B[0;34m(\u001B[0m\u001B[0mdata\u001B[0m\u001B[0;34m[\u001B[0m\u001B[0;34m'Main Tag'\u001B[0m\u001B[0;34m]\u001B[0m\u001B[0;34m.\u001B[0m\u001B[0mvalue_counts\u001B[0m\u001B[0;34m(\u001B[0m\u001B[0;34m)\u001B[0m\u001B[0;34m)\u001B[0m\u001B[0;34m\u001B[0m\u001B[0m\n\u001B[1;32m     18\u001B[0m \u001B[0;34m\u001B[0m\u001B[0m\n\u001B[0;32m---> 19\u001B[0;31m \u001B[0;32mimport\u001B[0m \u001B[0mpyodbc\u001B[0m\u001B[0;34m\u001B[0m\u001B[0m\n\u001B[0m\u001B[1;32m     20\u001B[0m \u001B[0;34m\u001B[0m\u001B[0m\n\u001B[1;32m     21\u001B[0m conn = pyodbc.connect('Driver={SQL Server};'\n",
      "\u001B[0;31mImportError\u001B[0m: No module named pyodbc"
     ]
    }
   ],
   "source": [
    "import pandas as pd\n",
    "import os\n",
    "data =  pd.read_csv(os.path.join(\"all_quotes.csv\"))\n",
    "data = data.drop('Other Tags', axis=1)\n",
    "data.dropna(inplace= True)\n",
    "print(data['Main Tag'].value_counts())\n",
    "data.info()\n",
    "data =data[data['Quote'].str.contains('r[^\\{IsLatin}]')]\n",
    "data =data[data['Author'].str.match('― .*')]\n",
    "data.rename(columns = {\"Unnamed: 0\":\"Id\"}, inplace = True)\n",
    "data = data[data['Quote'].str.split().str.len().lt(15)]\n",
    "data = data[data['Author'].str.split().str.len().lt(9)]\n",
    "data['Author'] = data['Author'].str[3:]\n",
    "data.to_csv('out.csv', index=False)\n",
    "data.info()\n",
    "print(data['Main Tag'].value_counts())\n"
   ],
   "metadata": {
    "collapsed": false,
    "pycharm": {
     "name": "#%%\n"
    }
   }
  }
 ],
 "metadata": {
  "kernelspec": {
   "name": "python3",
   "language": "python",
   "display_name": "Python 3 (ipykernel)"
  },
  "language_info": {
   "codemirror_mode": {
    "name": "ipython",
    "version": 2
   },
   "file_extension": ".py",
   "mimetype": "text/x-python",
   "name": "python",
   "nbconvert_exporter": "python",
   "pygments_lexer": "ipython2",
   "version": "2.7.6"
  }
 },
 "nbformat": 4,
 "nbformat_minor": 0
}